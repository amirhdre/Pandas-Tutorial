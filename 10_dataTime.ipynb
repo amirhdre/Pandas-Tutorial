{
 "cells": [
  {
   "cell_type": "code",
   "execution_count": null,
   "id": "4c85e640",
   "metadata": {},
   "outputs": [],
   "source": [
    "import pandas as pd\n"
   ]
  },
  {
   "cell_type": "code",
   "execution_count": null,
   "id": "2eda2c1b",
   "metadata": {},
   "outputs": [],
   "source": [
    "df = pd.read_csv(\"data/CLS.csv\")\n"
   ]
  },
  {
   "cell_type": "code",
   "execution_count": null,
   "id": "81c64137",
   "metadata": {
    "scrolled": true
   },
   "outputs": [],
   "source": [
    "df.head()\n"
   ]
  },
  {
   "cell_type": "code",
   "execution_count": null,
   "id": "4b1d606c",
   "metadata": {},
   "outputs": [],
   "source": [
    "df.shape\n"
   ]
  },
  {
   "cell_type": "code",
   "execution_count": null,
   "id": "aa4de1ff",
   "metadata": {},
   "outputs": [],
   "source": [
    "df.loc[0, \"Date\"]\n"
   ]
  },
  {
   "cell_type": "code",
   "execution_count": null,
   "id": "573854d9",
   "metadata": {},
   "outputs": [],
   "source": [
    "df.loc[0, \"Date\"].day_name()\n"
   ]
  },
  {
   "cell_type": "code",
   "execution_count": null,
   "id": "499a9ff2",
   "metadata": {},
   "outputs": [],
   "source": [
    "df[\"Date\"] = pd.to_datetime(df[\"Date\"])\n"
   ]
  },
  {
   "cell_type": "code",
   "execution_count": null,
   "id": "bf7e0369",
   "metadata": {},
   "outputs": [],
   "source": [
    "# https://docs.python.org/3/library/datetime.html#strftime-and-strptime-behavior\n"
   ]
  },
  {
   "cell_type": "code",
   "execution_count": null,
   "id": "9161075f",
   "metadata": {},
   "outputs": [],
   "source": [
    "df[\"Date\"] = pd.to_datetime(df[\"Date\"], format=\"%Y-%m-%d %I-%p\")\n"
   ]
  },
  {
   "cell_type": "code",
   "execution_count": null,
   "id": "620e6b33",
   "metadata": {},
   "outputs": [],
   "source": [
    "df[\"Date\"]\n"
   ]
  },
  {
   "cell_type": "code",
   "execution_count": null,
   "id": "b5059508",
   "metadata": {},
   "outputs": [],
   "source": [
    "df.loc[0, \"Date\"].day_name()\n"
   ]
  },
  {
   "cell_type": "code",
   "execution_count": null,
   "id": "2079cdb1",
   "metadata": {},
   "outputs": [],
   "source": [
    "d_parser = lambda x: pd.datetime.strptime(x, \"%Y-%m-%d %I-%p\")\n",
    "df = pd.read_csv(\"data/CLS.csv\", parse_dates=[\"Date\"], date_parser=d_parser)\n"
   ]
  },
  {
   "cell_type": "code",
   "execution_count": null,
   "id": "6d83e182",
   "metadata": {},
   "outputs": [],
   "source": [
    "df[\"Date\"].dt.day_name()\n"
   ]
  },
  {
   "cell_type": "code",
   "execution_count": null,
   "id": "088eb470",
   "metadata": {},
   "outputs": [],
   "source": [
    "df[\"DayOfWeek\"] = df[\"Date\"].dt.day_name()\n"
   ]
  },
  {
   "cell_type": "code",
   "execution_count": null,
   "id": "be1e8b46",
   "metadata": {},
   "outputs": [],
   "source": [
    "df\n"
   ]
  },
  {
   "cell_type": "code",
   "execution_count": null,
   "id": "2292c0a0",
   "metadata": {},
   "outputs": [],
   "source": [
    "df[\"Date\"].min()\n"
   ]
  },
  {
   "cell_type": "code",
   "execution_count": null,
   "id": "bcd4b0fc",
   "metadata": {},
   "outputs": [],
   "source": [
    "df[\"Date\"].max()\n"
   ]
  },
  {
   "cell_type": "code",
   "execution_count": null,
   "id": "d77f0d6e",
   "metadata": {},
   "outputs": [],
   "source": [
    "df[\"Date\"].max() - df[\"Date\"].min()\n"
   ]
  },
  {
   "cell_type": "code",
   "execution_count": null,
   "id": "2943f2ae",
   "metadata": {},
   "outputs": [],
   "source": [
    "filt = df[\"Date\"] >= \"2020\"\n",
    "df.loc[filt]\n"
   ]
  },
  {
   "cell_type": "code",
   "execution_count": null,
   "id": "17d31670",
   "metadata": {},
   "outputs": [],
   "source": [
    "filt = (df[\"Date\"] >= \"2019\") & (df[\"Date\"] < \"2020\")\n",
    "df.loc[filt]\n"
   ]
  },
  {
   "cell_type": "code",
   "execution_count": null,
   "id": "ca7182ab",
   "metadata": {},
   "outputs": [],
   "source": [
    "filt = (df[\"Date\"] >= pd.to_datetime(\"2019-01-01\")) & (\n",
    "    df[\"Date\"] < pd.to_datetime(\"2020-01-01\")\n",
    ")\n",
    "df.loc[filt]\n"
   ]
  },
  {
   "cell_type": "code",
   "execution_count": null,
   "id": "42e070f0",
   "metadata": {},
   "outputs": [],
   "source": [
    "df.set_index(\"Date\", inplace=True)\n"
   ]
  },
  {
   "cell_type": "code",
   "execution_count": null,
   "id": "db450086",
   "metadata": {},
   "outputs": [],
   "source": [
    "df.loc[\"2019\"]\n"
   ]
  },
  {
   "cell_type": "code",
   "execution_count": null,
   "id": "c47e5689",
   "metadata": {},
   "outputs": [],
   "source": [
    "df.loc[\"2020-01\":\"2020-02\"]\n"
   ]
  },
  {
   "cell_type": "code",
   "execution_count": null,
   "id": "f75d725c",
   "metadata": {},
   "outputs": [],
   "source": [
    "df.loc[\"2020-01\":\"2020-02\"][\"Close\"].mean()\n"
   ]
  },
  {
   "cell_type": "code",
   "execution_count": null,
   "id": "77bb7348",
   "metadata": {},
   "outputs": [],
   "source": [
    "df.loc[\"2020-01\":\"2020-02\", \"Close\"].mean()\n"
   ]
  },
  {
   "cell_type": "code",
   "execution_count": null,
   "id": "88b57581",
   "metadata": {},
   "outputs": [],
   "source": [
    "df.loc[\"2020-01-01\", \"High\"].max()\n"
   ]
  },
  {
   "cell_type": "markdown",
   "id": "c5824dc9",
   "metadata": {},
   "source": [
    "[Pandas Date Offset Codes](https://pandas.pydata.org/pandas-docs/stable/user_guide/timeseries.html#dateoffset-objects)"
   ]
  },
  {
   "cell_type": "code",
   "execution_count": null,
   "id": "edf23afb",
   "metadata": {},
   "outputs": [],
   "source": [
    "highs = df[\"High\"].resample(\"D\").max()\n"
   ]
  },
  {
   "cell_type": "code",
   "execution_count": null,
   "id": "a25102d9",
   "metadata": {},
   "outputs": [],
   "source": [
    "highs[\"2020-01-01\"]\n"
   ]
  },
  {
   "cell_type": "code",
   "execution_count": null,
   "id": "5adcae94",
   "metadata": {},
   "outputs": [],
   "source": [
    "import matplotlib.pyplot as plt\n",
    "%matplotlib inline"
   ]
  },
  {
   "cell_type": "code",
   "execution_count": null,
   "id": "dce07061",
   "metadata": {},
   "outputs": [],
   "source": [
    "highs.plot()\n"
   ]
  },
  {
   "cell_type": "code",
   "execution_count": null,
   "id": "5a779490",
   "metadata": {},
   "outputs": [],
   "source": [
    "df.resample(\"W\").mean()\n"
   ]
  },
  {
   "cell_type": "code",
   "execution_count": null,
   "id": "fba2831d",
   "metadata": {},
   "outputs": [],
   "source": [
    "df.resample(\"W\").agg({\"Close\": \"mean\", \"High\": \"max\", \"Low\": \"min\", \"Volume\": \"sum\"})\n"
   ]
  },
  {
   "cell_type": "code",
   "execution_count": null,
   "id": "6f6b0419",
   "metadata": {},
   "outputs": [],
   "source": []
  }
 ],
 "metadata": {
  "kernelspec": {
   "display_name": "Python 3 (ipykernel)",
   "language": "python",
   "name": "python3"
  },
  "language_info": {
   "codemirror_mode": {
    "name": "ipython",
    "version": 3
   },
   "file_extension": ".py",
   "mimetype": "text/x-python",
   "name": "python",
   "nbconvert_exporter": "python",
   "pygments_lexer": "ipython3",
   "version": "3.8.11"
  }
 },
 "nbformat": 4,
 "nbformat_minor": 5
}
