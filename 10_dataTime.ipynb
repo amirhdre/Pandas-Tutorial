{
 "cells": [
  {
   "cell_type": "code",
   "execution_count": 1,
   "id": "4c85e640",
   "metadata": {},
   "outputs": [],
   "source": [
    "import pandas as pd\n"
   ]
  },
  {
   "cell_type": "code",
   "execution_count": 2,
   "id": "2eda2c1b",
   "metadata": {},
   "outputs": [],
   "source": [
    "df = pd.read_csv(\"data/CLS.csv\")\n"
   ]
  },
  {
   "cell_type": "code",
   "execution_count": 3,
   "id": "81c64137",
   "metadata": {
    "scrolled": true
   },
   "outputs": [
    {
     "data": {
      "text/html": [
       "<div>\n",
       "<style scoped>\n",
       "    .dataframe tbody tr th:only-of-type {\n",
       "        vertical-align: middle;\n",
       "    }\n",
       "\n",
       "    .dataframe tbody tr th {\n",
       "        vertical-align: top;\n",
       "    }\n",
       "\n",
       "    .dataframe thead th {\n",
       "        text-align: right;\n",
       "    }\n",
       "</style>\n",
       "<table border=\"1\" class=\"dataframe\">\n",
       "  <thead>\n",
       "    <tr style=\"text-align: right;\">\n",
       "      <th></th>\n",
       "      <th>Date</th>\n",
       "      <th>Symbol</th>\n",
       "      <th>Open</th>\n",
       "      <th>High</th>\n",
       "      <th>Low</th>\n",
       "      <th>Close</th>\n",
       "      <th>Volume</th>\n",
       "    </tr>\n",
       "  </thead>\n",
       "  <tbody>\n",
       "    <tr>\n",
       "      <th>0</th>\n",
       "      <td>2020-03-13 08-PM</td>\n",
       "      <td>ETHUSD</td>\n",
       "      <td>129.94</td>\n",
       "      <td>131.82</td>\n",
       "      <td>126.87</td>\n",
       "      <td>128.71</td>\n",
       "      <td>1940673.93</td>\n",
       "    </tr>\n",
       "    <tr>\n",
       "      <th>1</th>\n",
       "      <td>2020-03-13 07-PM</td>\n",
       "      <td>ETHUSD</td>\n",
       "      <td>119.51</td>\n",
       "      <td>132.02</td>\n",
       "      <td>117.10</td>\n",
       "      <td>129.94</td>\n",
       "      <td>7579741.09</td>\n",
       "    </tr>\n",
       "    <tr>\n",
       "      <th>2</th>\n",
       "      <td>2020-03-13 06-PM</td>\n",
       "      <td>ETHUSD</td>\n",
       "      <td>124.47</td>\n",
       "      <td>124.85</td>\n",
       "      <td>115.50</td>\n",
       "      <td>119.51</td>\n",
       "      <td>4898735.81</td>\n",
       "    </tr>\n",
       "    <tr>\n",
       "      <th>3</th>\n",
       "      <td>2020-03-13 05-PM</td>\n",
       "      <td>ETHUSD</td>\n",
       "      <td>124.08</td>\n",
       "      <td>127.42</td>\n",
       "      <td>121.63</td>\n",
       "      <td>124.47</td>\n",
       "      <td>2753450.92</td>\n",
       "    </tr>\n",
       "    <tr>\n",
       "      <th>4</th>\n",
       "      <td>2020-03-13 04-PM</td>\n",
       "      <td>ETHUSD</td>\n",
       "      <td>124.85</td>\n",
       "      <td>129.51</td>\n",
       "      <td>120.17</td>\n",
       "      <td>124.08</td>\n",
       "      <td>4461424.71</td>\n",
       "    </tr>\n",
       "  </tbody>\n",
       "</table>\n",
       "</div>"
      ],
      "text/plain": [
       "               Date  Symbol    Open    High     Low   Close      Volume\n",
       "0  2020-03-13 08-PM  ETHUSD  129.94  131.82  126.87  128.71  1940673.93\n",
       "1  2020-03-13 07-PM  ETHUSD  119.51  132.02  117.10  129.94  7579741.09\n",
       "2  2020-03-13 06-PM  ETHUSD  124.47  124.85  115.50  119.51  4898735.81\n",
       "3  2020-03-13 05-PM  ETHUSD  124.08  127.42  121.63  124.47  2753450.92\n",
       "4  2020-03-13 04-PM  ETHUSD  124.85  129.51  120.17  124.08  4461424.71"
      ]
     },
     "execution_count": 3,
     "metadata": {},
     "output_type": "execute_result"
    }
   ],
   "source": [
    "df.head()\n"
   ]
  },
  {
   "cell_type": "code",
   "execution_count": 4,
   "id": "4b1d606c",
   "metadata": {},
   "outputs": [
    {
     "data": {
      "text/plain": [
       "(23674, 7)"
      ]
     },
     "execution_count": 4,
     "metadata": {},
     "output_type": "execute_result"
    }
   ],
   "source": [
    "df.shape\n"
   ]
  },
  {
   "cell_type": "code",
   "execution_count": 5,
   "id": "aa4de1ff",
   "metadata": {},
   "outputs": [
    {
     "data": {
      "text/plain": [
       "'2020-03-13 08-PM'"
      ]
     },
     "execution_count": 5,
     "metadata": {},
     "output_type": "execute_result"
    }
   ],
   "source": [
    "df.loc[0, \"Date\"]\n"
   ]
  },
  {
   "cell_type": "code",
   "execution_count": 6,
   "id": "573854d9",
   "metadata": {},
   "outputs": [
    {
     "ename": "AttributeError",
     "evalue": "'str' object has no attribute 'day_name'",
     "output_type": "error",
     "traceback": [
      "\u001b[0;31m---------------------------------------------------------------------------\u001b[0m",
      "\u001b[0;31mAttributeError\u001b[0m                            Traceback (most recent call last)",
      "\u001b[0;32m/var/folders/c4/x03my2dj70s46m109bn58l2m0000gn/T/ipykernel_25051/2512699513.py\u001b[0m in \u001b[0;36m<module>\u001b[0;34m\u001b[0m\n\u001b[0;32m----> 1\u001b[0;31m \u001b[0mdf\u001b[0m\u001b[0;34m.\u001b[0m\u001b[0mloc\u001b[0m\u001b[0;34m[\u001b[0m\u001b[0;36m0\u001b[0m\u001b[0;34m,\u001b[0m \u001b[0;34m\"Date\"\u001b[0m\u001b[0;34m]\u001b[0m\u001b[0;34m.\u001b[0m\u001b[0mday_name\u001b[0m\u001b[0;34m(\u001b[0m\u001b[0;34m)\u001b[0m\u001b[0;34m\u001b[0m\u001b[0;34m\u001b[0m\u001b[0m\n\u001b[0m",
      "\u001b[0;31mAttributeError\u001b[0m: 'str' object has no attribute 'day_name'"
     ]
    }
   ],
   "source": [
    "df.loc[0, \"Date\"].day_name()\n"
   ]
  },
  {
   "cell_type": "code",
   "execution_count": null,
   "id": "499a9ff2",
   "metadata": {},
   "outputs": [],
   "source": [
    "df[\"Date\"] = pd.to_datetime(df[\"Date\"])\n"
   ]
  },
  {
   "cell_type": "code",
   "execution_count": null,
   "id": "bf7e0369",
   "metadata": {},
   "outputs": [],
   "source": [
    "# https://docs.python.org/3/library/datetime.html#strftime-and-strptime-behavior\n"
   ]
  },
  {
   "cell_type": "code",
   "execution_count": null,
   "id": "9161075f",
   "metadata": {},
   "outputs": [],
   "source": [
    "df[\"Date\"] = pd.to_datetime(df[\"Date\"], format=\"%Y-%m-%d %I-%p\")\n"
   ]
  },
  {
   "cell_type": "code",
   "execution_count": null,
   "id": "620e6b33",
   "metadata": {},
   "outputs": [],
   "source": [
    "df[\"Date\"]\n"
   ]
  },
  {
   "cell_type": "code",
   "execution_count": null,
   "id": "b5059508",
   "metadata": {},
   "outputs": [],
   "source": [
    "df.loc[0, \"Date\"].day_name()\n"
   ]
  },
  {
   "cell_type": "code",
   "execution_count": null,
   "id": "2079cdb1",
   "metadata": {},
   "outputs": [],
   "source": [
    "d_parser = lambda x: pd.datetime.strptime(x, \"%Y-%m-%d %I-%p\")\n",
    "df = pd.read_csv(\"data/CLS.csv\", parse_dates=[\"Date\"], date_parser=d_parser)\n"
   ]
  },
  {
   "cell_type": "code",
   "execution_count": null,
   "id": "6d83e182",
   "metadata": {},
   "outputs": [],
   "source": [
    "df[\"Date\"].dt.day_name()\n"
   ]
  },
  {
   "cell_type": "code",
   "execution_count": null,
   "id": "088eb470",
   "metadata": {},
   "outputs": [],
   "source": [
    "df[\"DayOfWeek\"] = df[\"Date\"].dt.day_name()\n"
   ]
  },
  {
   "cell_type": "code",
   "execution_count": null,
   "id": "be1e8b46",
   "metadata": {},
   "outputs": [],
   "source": [
    "df\n"
   ]
  },
  {
   "cell_type": "code",
   "execution_count": null,
   "id": "2292c0a0",
   "metadata": {},
   "outputs": [],
   "source": [
    "df[\"Date\"].min()\n"
   ]
  },
  {
   "cell_type": "code",
   "execution_count": null,
   "id": "bcd4b0fc",
   "metadata": {},
   "outputs": [],
   "source": [
    "df[\"Date\"].max()\n"
   ]
  },
  {
   "cell_type": "code",
   "execution_count": null,
   "id": "d77f0d6e",
   "metadata": {},
   "outputs": [],
   "source": [
    "df[\"Date\"].max() - df[\"Date\"].min()\n"
   ]
  },
  {
   "cell_type": "code",
   "execution_count": null,
   "id": "2943f2ae",
   "metadata": {},
   "outputs": [],
   "source": [
    "filt = df[\"Date\"] >= \"2020\"\n",
    "df.loc[filt]\n"
   ]
  },
  {
   "cell_type": "code",
   "execution_count": null,
   "id": "17d31670",
   "metadata": {},
   "outputs": [],
   "source": [
    "filt = (df[\"Date\"] >= \"2019\") & (df[\"Date\"] < \"2020\")\n",
    "df.loc[filt]\n"
   ]
  },
  {
   "cell_type": "code",
   "execution_count": null,
   "id": "ca7182ab",
   "metadata": {},
   "outputs": [],
   "source": [
    "filt = (df[\"Date\"] >= pd.to_datetime(\"2019-01-01\")) & (\n",
    "    df[\"Date\"] < pd.to_datetime(\"2020-01-01\")\n",
    ")\n",
    "df.loc[filt]\n"
   ]
  },
  {
   "cell_type": "code",
   "execution_count": null,
   "id": "42e070f0",
   "metadata": {},
   "outputs": [],
   "source": [
    "df.set_index(\"Date\", inplace=True)\n"
   ]
  },
  {
   "cell_type": "code",
   "execution_count": null,
   "id": "db450086",
   "metadata": {},
   "outputs": [],
   "source": [
    "df.loc[\"2019\"]\n"
   ]
  },
  {
   "cell_type": "code",
   "execution_count": null,
   "id": "c47e5689",
   "metadata": {},
   "outputs": [],
   "source": [
    "df.loc[\"2020-01\":\"2020-02\"]\n"
   ]
  },
  {
   "cell_type": "code",
   "execution_count": null,
   "id": "f75d725c",
   "metadata": {},
   "outputs": [],
   "source": [
    "df.loc[\"2020-01\":\"2020-02\"][\"Close\"].mean()\n"
   ]
  },
  {
   "cell_type": "code",
   "execution_count": null,
   "id": "77bb7348",
   "metadata": {},
   "outputs": [],
   "source": [
    "df.loc[\"2020-01\":\"2020-02\", \"Close\"].mean()\n"
   ]
  },
  {
   "cell_type": "code",
   "execution_count": null,
   "id": "88b57581",
   "metadata": {},
   "outputs": [],
   "source": [
    "df.loc[\"2020-01-01\", \"High\"].max()\n"
   ]
  },
  {
   "cell_type": "markdown",
   "id": "c5824dc9",
   "metadata": {},
   "source": [
    "[Pandas Date Offset Codes](https://pandas.pydata.org/pandas-docs/stable/user_guide/timeseries.html#dateoffset-objects)"
   ]
  },
  {
   "cell_type": "code",
   "execution_count": null,
   "id": "edf23afb",
   "metadata": {},
   "outputs": [],
   "source": [
    "highs = df[\"High\"].resample(\"D\").max()\n"
   ]
  },
  {
   "cell_type": "code",
   "execution_count": null,
   "id": "a25102d9",
   "metadata": {},
   "outputs": [],
   "source": [
    "highs[\"2020-01-01\"]\n"
   ]
  },
  {
   "cell_type": "code",
   "execution_count": null,
   "id": "5adcae94",
   "metadata": {},
   "outputs": [],
   "source": [
    "import matplotlib.pyplot as plt\n",
    "%matplotlib inline"
   ]
  },
  {
   "cell_type": "code",
   "execution_count": null,
   "id": "dce07061",
   "metadata": {},
   "outputs": [],
   "source": [
    "highs.plot()\n"
   ]
  },
  {
   "cell_type": "code",
   "execution_count": null,
   "id": "5a779490",
   "metadata": {},
   "outputs": [],
   "source": [
    "df.resample(\"W\").mean()\n"
   ]
  },
  {
   "cell_type": "code",
   "execution_count": null,
   "id": "fba2831d",
   "metadata": {},
   "outputs": [],
   "source": [
    "df.resample(\"W\").agg({\"Close\": \"mean\", \"High\": \"max\", \"Low\": \"min\", \"Volume\": \"sum\"})\n"
   ]
  }
 ],
 "metadata": {
  "kernelspec": {
   "display_name": "Python 3 (ipykernel)",
   "language": "python",
   "name": "python3"
  },
  "language_info": {
   "codemirror_mode": {
    "name": "ipython",
    "version": 3
   },
   "file_extension": ".py",
   "mimetype": "text/x-python",
   "name": "python",
   "nbconvert_exporter": "python",
   "pygments_lexer": "ipython3",
   "version": "3.8.11"
  }
 },
 "nbformat": 4,
 "nbformat_minor": 5
}
